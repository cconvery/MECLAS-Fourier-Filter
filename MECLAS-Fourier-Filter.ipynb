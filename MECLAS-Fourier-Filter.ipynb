{
 "cells": [
  {
   "cell_type": "markdown",
   "id": "0a17a1ab",
   "metadata": {},
   "source": [
    "### Import Packages"
   ]
  },
  {
   "cell_type": "code",
   "execution_count": 3,
   "id": "d81d263c",
   "metadata": {},
   "outputs": [],
   "source": [
    "import numpy as np\n",
    "import scipy\n",
    "from scipy import optimize\n",
    "from scipy import signal"
   ]
  },
  {
   "cell_type": "markdown",
   "id": "82ca660c",
   "metadata": {},
   "source": [
    "### Filtering Algorithm"
   ]
  },
  {
   "cell_type": "code",
   "execution_count": 6,
   "id": "eda459da",
   "metadata": {},
   "outputs": [],
   "source": [
    "#Requires data to be entered in the form of an array\n",
    "#Assumes measurement is over 50ns period, so sampling frequency = length(array)/50ns\n",
    "def deconvolve(data, energy, alpha, beta, delta, gamma, lpf):\n",
    "    \n",
    "    #data - array of discrete time measurements of electronic waveform\n",
    "    #alpha, beta, delta, gamma - parameters for impulse response function\n",
    "    #lpf - low pass frequency\n",
    "    \n",
    "    totalTime = 50e-9\n",
    "    sampleSpacing = totalTime/totalSteps\n",
    "    sampleFreq = 1/sampleSpacing\n",
    "    \n",
    "    #Initialize impulse response function\n",
    "    def impulseResponse(x, alpha, beta, delta, gamma):\n",
    "        value = (((alpha*x)+beta)**(-delta)-gamma)\n",
    "        return value\n",
    "    \n",
    "    #Initialize impulse response array (values come from function and xAxis)\n",
    "    xAxis = np.linspace(0, totalTime, totalSteps)\n",
    "    IR = np.zeros(0)\n",
    "    for x in range (totalSteps):\n",
    "        value = impulseResponse(xAxis[x], alpha, beta, delta, gamma)\n",
    "        if value >= 0:\n",
    "            IR = np.append(IR, value)\n",
    "        else:\n",
    "            IR = np.append(IR, [0])\n",
    "            \n",
    "    #Normalize impulse response s.t. integral from -inf to inf = 1\n",
    "    normConstant = 1/np.sum(IR)\n",
    "    normIR = normConstant*IR\n",
    "    \n",
    "    #Initialize and sort frequency bin\n",
    "    freqBin = np.fft.fftfreq(totalSteps, sampleSpacing)\n",
    "    idx1 = np.argsort(freqBin)\n",
    "    freqBin = freqBin[idx1]\n",
    "    \n",
    "    #Create fransfer function (fourier fransform of impulse response)\n",
    "    TF = np.fft.fft(normIR)\n",
    "    TF = TF[idx1]\n",
    "    \n",
    "    #Take fourier fransform of the data\n",
    "    fftData = np.fft.fft(data)\n",
    "    fftData = fftData[idx1]\n",
    "    \n",
    "    #Creates filter using transfer function and low pass frequency\n",
    "    filt = 1/tf\n",
    "    for x in range (len(filt)):\n",
    "        if np.abs(freqBin[x])>lpf:\n",
    "            filt[x] = 0\n",
    "    \n",
    "    #Apply filter to data in the fourier domain\n",
    "    deconvFFT = fftData*filt\n",
    "    \n",
    "    #Take Inverse Fourier Transform of filtered data to return to time domain\n",
    "    deconv = np.abs(np.fft.ifft(deconvFFT))\n",
    "    \n",
    "    #Normalize deconvolved signal s.t. the y axis is power\n",
    "    normConst = energy/np.sum(deconv)\n",
    "    deconv = normConst*deconv\n",
    "    \n",
    "    return deconv"
   ]
  }
 ],
 "metadata": {
  "kernelspec": {
   "display_name": "Python 3",
   "language": "python",
   "name": "python3"
  },
  "language_info": {
   "codemirror_mode": {
    "name": "ipython",
    "version": 3
   },
   "file_extension": ".py",
   "mimetype": "text/x-python",
   "name": "python",
   "nbconvert_exporter": "python",
   "pygments_lexer": "ipython3",
   "version": "3.8.8"
  }
 },
 "nbformat": 4,
 "nbformat_minor": 5
}
